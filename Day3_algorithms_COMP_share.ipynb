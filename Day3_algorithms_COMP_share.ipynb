{
 "cells": [
  {
   "cell_type": "markdown",
   "metadata": {},
   "source": [
    "# Classic Algorithms"
   ]
  },
  {
   "cell_type": "markdown",
   "metadata": {},
   "source": [
    "## Tasks Today:\n",
    " \n",
    "1) <b>In-Place Algorithms</b> <br>\n",
    " &nbsp;&nbsp;&nbsp;&nbsp; a) Syntax <br>\n",
    " &nbsp;&nbsp;&nbsp;&nbsp; a) Out of Place Algorithm <br>\n",
    " &nbsp;&nbsp;&nbsp;&nbsp; b) In-Class Exercise #1 <br>\n",
    "2) <b>Two Pointers</b> <br>\n",
    "3) <b>Sorting Algorithms</b> <br>\n",
    "4) <b>Merge Sort</b> <br>\n",
    " &nbsp;&nbsp;&nbsp;&nbsp; a) Video on Algorithms <br>\n",
    " &nbsp;&nbsp;&nbsp;&nbsp; b) How it Works <br>\n",
    "5) <b>Exercises</b> <br>\n",
    " &nbsp;&nbsp;&nbsp;&nbsp; a) Exercise #1 - Reverse a List in Place Using an In-Place Algorithm <br>\n",
    " &nbsp;&nbsp;&nbsp;&nbsp; b) Exercise #2 - Find Distinct Words <br>\n",
    " &nbsp;&nbsp;&nbsp;&nbsp; c) Exercise #3 - Write a program to implement a Linear Search Algorithm. <br>"
   ]
  },
  {
   "cell_type": "markdown",
   "metadata": {},
   "source": [
    "## In-Place Algorithms"
   ]
  },
  {
   "cell_type": "markdown",
   "metadata": {},
   "source": [
    "#### Syntax"
   ]
  },
  {
   "cell_type": "code",
   "execution_count": 1,
   "metadata": {},
   "outputs": [
    {
     "name": "stdout",
     "output_type": "stream",
     "text": [
      "[20, 4, 10]\n",
      "[4, 20, 10]\n"
     ]
    }
   ],
   "source": [
    "#in-place vs out-of-place algo reminder\n",
    "\n",
    "# var[i],var[i + 1] = var[i + 1], var[i]\n",
    "# Sometimes known as a swap algorithm\n",
    "\n",
    "\n",
    "def swap(alist,x,y,z):\n",
    "    tempa = alist[x]\n",
    "    tempc = alist[z]\n",
    "    alist[z] = tempa\n",
    "    alist[x] = tempc\n",
    "    \n",
    "#     or destructuring example:\n",
    "#     alist[x],alist[y],alist[z] = alist[z],alist[y],alist[x]\n",
    "\n",
    "\n",
    "my_list = [20,4,10]\n",
    "print(my_list)\n",
    "\n",
    "# swap(my_list,0,1,2)\n",
    "swap(my_list,1,2,0)\n",
    "\n",
    "print(my_list)\n",
    "\n"
   ]
  },
  {
   "cell_type": "markdown",
   "metadata": {},
   "source": [
    "#### Out of Place Algorithm"
   ]
  },
  {
   "cell_type": "code",
   "execution_count": 2,
   "metadata": {},
   "outputs": [
    {
     "name": "stdout",
     "output_type": "stream",
     "text": [
      "[4, 20, 10]\n",
      "[4, 20, 10]\n",
      "[20, 4, 10]\n"
     ]
    }
   ],
   "source": [
    "def swap(alist,x,y,z):\n",
    "    copy = alist[:]\n",
    "    copy[x],copy[y],copy[z] = copy[z],copy[y],copy[x]\n",
    "    return copy\n",
    "\n",
    "\n",
    "print(my_list)\n",
    "\n",
    "\n",
    "c = swap(my_list,1,2,0)\n",
    "\n",
    "print(my_list)\n",
    "print(c)\n"
   ]
  },
  {
   "cell_type": "markdown",
   "metadata": {},
   "source": [
    "#### In-Class Exercise #1 <br>\n",
    "<p>Write a function that takes in four arguments (list, index1, index2, index3), and swaps those three positions in the list passed in.</p>"
   ]
  },
  {
   "cell_type": "code",
   "execution_count": null,
   "metadata": {},
   "outputs": [],
   "source": []
  },
  {
   "cell_type": "markdown",
   "metadata": {},
   "source": [
    "## Two Pointers"
   ]
  },
  {
   "cell_type": "markdown",
   "metadata": {},
   "source": [
    "#### Syntax"
   ]
  },
  {
   "cell_type": "code",
   "execution_count": 3,
   "metadata": {},
   "outputs": [
    {
     "name": "stdout",
     "output_type": "stream",
     "text": [
      "left= 0 and right= 8\n",
      "left= 1 and right= 7\n",
      "left= 2 and right= 6\n",
      "left= 3 and right= 5\n"
     ]
    },
    {
     "data": {
      "text/plain": [
       "[22, 11, 4, 8, 9, 12, 3, 2, 1]"
      ]
     },
     "execution_count": 3,
     "metadata": {},
     "output_type": "execute_result"
    }
   ],
   "source": [
    "\n",
    "def twoPointers(alist):\n",
    "    left = 0\n",
    "    right = len(alist) - 1\n",
    "    while left < right:\n",
    "        print(f\"left= {left} and right= {right}\")\n",
    "        alist[left], alist[right] = alist[right],alist[left]\n",
    "        left += 1\n",
    "        right -= 1\n",
    "        \n",
    "    return alist\n",
    "\n",
    "my_list2 = [1,2,3,12,9,8,4,11, 22]\n",
    "twoPointers(my_list2)\n"
   ]
  },
  {
   "cell_type": "markdown",
   "metadata": {},
   "source": [
    "#### Video of Algorithms <br>\n",
    "<p>Watch the video about algorithms.</p>\n",
    "\n",
    "https://www.youtube.com/watch?v=Q9HjeFD62Uk\n",
    "\n",
    "https://www.youtube.com/watch?v=kPRA0W1kECg\n",
    "\n",
    "https://www.youtube.com/watch?v=ZZuD6iUe3Pc\n",
    "\n",
    "https://www.hackerearth.com/practice/algorithms/sorting/bubble-sort/visualize/\n",
    "\n",
    "https://www.bigocheatsheet.com/"
   ]
  },
  {
   "cell_type": "markdown",
   "metadata": {},
   "source": [
    "# Sorting Algorithms"
   ]
  },
  {
   "cell_type": "markdown",
   "metadata": {},
   "source": [
    "#### Bubble Sort\n",
    "\n",
    "Worst Case: O(n^2) Time - O(1) Space"
   ]
  },
  {
   "cell_type": "code",
   "execution_count": 4,
   "metadata": {},
   "outputs": [
    {
     "name": "stdout",
     "output_type": "stream",
     "text": [
      "original- [54, 86, 10, 899, 4, 8]\n",
      "original- [22, 55, 88, 44, 1, 100, 34, 66]\n",
      "mod1- [54, 86, 10, 899, 4, 8]\n",
      "mod2- [22, 55, 88, 44, 1, 100, 34, 66]\n"
     ]
    }
   ],
   "source": [
    "\n",
    "# Best Case: O(n) - Linear\n",
    "def swap(nums, i,j):\n",
    "    nums[i],nums[j] = nums[j], nums[i]\n",
    "    \n",
    "def bubbleSort(arr):\n",
    "    for x in range(len(arr)):\n",
    "        count = 0\n",
    "        print(f\"count- {count}\")\n",
    "        for i in range(len(arr)-1):\n",
    "            print(f\"I- {i}\")\n",
    "            if arr[i] > arr[i+1]:\n",
    "                swap(arr, i, i+1)\n",
    "        count +=1    \n",
    "    \n",
    "    \n",
    "def bubbleSortop(array):\n",
    "    isSorted = False\n",
    "    while not isSorted:\n",
    "        isSorted = True\n",
    "        for i in range(len(array) - 1):\n",
    "            if array[i] > array[i + 1]:\n",
    "                swap(array, i, i + 1)\n",
    "                isSorted = False\n",
    "    return array\n",
    "\n",
    "nums = [54, 86, 10, 899, 4, 8]\n",
    "nums2 = [22,55,88,44,1,100,34,66]\n",
    "print(f\"original- {nums}\")\n",
    "print(f\"original- {nums2}\")\n",
    "        \n",
    "        \n",
    "# bubbleSort(nums)\n",
    "# bubbleSort(nums2)\n",
    "\n",
    "print(f\"mod1- {nums}\")\n",
    "print(f\"mod2- {nums2}\")\n"
   ]
  },
  {
   "cell_type": "markdown",
   "metadata": {},
   "source": [
    "##### Insertion Sort\n",
    "\n",
    "Worst Case: O(n^2) time - O(1)space"
   ]
  },
  {
   "cell_type": "code",
   "execution_count": 32,
   "metadata": {},
   "outputs": [
    {
     "name": "stdout",
     "output_type": "stream",
     "text": [
      "original- [1, 10, 11, 12, 16]\n",
      "mod1- [1, 10, 11, 12, 16]\n"
     ]
    }
   ],
   "source": [
    "def swap(nums, i,j):\n",
    "    nums[i],nums[j] = nums[j], nums[i]\n",
    "\n",
    "def insSort(nums):\n",
    "    for i in range(len(nums)):\n",
    "        j = i\n",
    "        while j > 0 and nums[j] < nums[j-1]:\n",
    "            swap(nums, j, j-1)\n",
    "            j -=1\n",
    "            \n",
    "\n",
    "print(f\"original- {nums}\")\n",
    "\n",
    "        \n",
    "insSort(nums)\n",
    "\n",
    "print(f\"mod1- {nums}\")\n",
    "\n",
    "\n"
   ]
  },
  {
   "cell_type": "markdown",
   "metadata": {},
   "source": [
    "## Merge Sort"
   ]
  },
  {
   "cell_type": "markdown",
   "metadata": {},
   "source": [
    "#### How it Works"
   ]
  },
  {
   "cell_type": "code",
   "execution_count": 5,
   "metadata": {},
   "outputs": [
    {
     "name": "stdout",
     "output_type": "stream",
     "text": [
      "[9, 15, 13, 11, 5]\n",
      "Merging:  [9, 15]\n",
      "Merging:  [5, 11]\n",
      "Merging:  [5, 11, 13]\n",
      "Merging:  [5, 9, 11, 13, 15]\n",
      "[5, 9, 11, 13, 15]\n"
     ]
    }
   ],
   "source": [
    "\n",
    "# Step 1: Split everything into it's own group- basically keep splitting in half until you can't anymore\n",
    "# Step 2: From left to right merge two groups together\n",
    "# Step 3: While merging, place each item in the correct position within the merged group\n",
    "# Step 4: keep going!\n",
    "\n",
    "from random import randint\n",
    "# used to generate a random list of 5 numbers from 0 to 20\n",
    "nums = [randint(0,20) for i in range(5)]\n",
    "\n",
    "# write merge sort below\n",
    "def mergeSort(alist):\n",
    "\n",
    "# 1    Step 1: Divide the array into equal parts (as much as possible)\n",
    "    if len(alist) > 1:\n",
    "        mid = len(alist) // 2\n",
    "        lefthalf = alist[:mid]\n",
    "        righthalf = alist[mid:]\n",
    "        \n",
    "        # recursively call mergeSort to perform splits if need\n",
    "        # Then merge once splits are done\n",
    "        mergeSort(lefthalf)\n",
    "        mergeSort(righthalf)\n",
    "\n",
    "        i = 0 # pointer for left half\n",
    "        j = 0 # pointer for right half\n",
    "        k = 0 # pointer for main array\n",
    "# end 1\n",
    "        \n",
    "# 2        # Step 2: Compare the lefthalf and righthalf\n",
    "        while i < len(lefthalf) and j < len(righthalf):\n",
    "            if lefthalf[i] < righthalf[j]:\n",
    "                alist[k] = lefthalf[i]\n",
    "                i += 1\n",
    "            else:\n",
    "                alist[k] = righthalf[j]\n",
    "                j += 1\n",
    "            k = k + 1 \n",
    "# end 2\n",
    "\n",
    "# 3        # Step 3: While merging place items in correct position\n",
    "        while i < len(lefthalf):\n",
    "            alist[k] = lefthalf[i]\n",
    "            i = i + 1\n",
    "            k = k + 1\n",
    "        while j < len(righthalf):\n",
    "            alist[k] = righthalf[j]\n",
    "            j = j + 1\n",
    "            k = k + 1\n",
    "# end 3\n",
    "\n",
    "# 4\n",
    "        print(\"Merging: \", alist) \n",
    "print(nums)\n",
    "mergeSort(nums)\n",
    "print(nums)\n"
   ]
  },
  {
   "cell_type": "markdown",
   "metadata": {},
   "source": [
    "# Binary Search\n",
    "\n",
    "The Binary Search algorithm works by finding the number in the middle of a given array and comparing it to the target. Given that the array is sorted\n",
    "\n",
    "* The worst case run time for this algorithm is `O(log(n))`"
   ]
  },
  {
   "cell_type": "code",
   "execution_count": 1,
   "metadata": {},
   "outputs": [
    {
     "data": {
      "text/plain": [
       "'Found your match at index 13'"
      ]
     },
     "execution_count": 1,
     "metadata": {},
     "output_type": "execute_result"
    }
   ],
   "source": [
    "\n",
    "# List of numbers MUST be sorted\n",
    "\n",
    "nums10 = [2, 4, 5, 9, 11, 16, 48, 89, 96, 112, 155, 178, 189, 200]\n",
    "def binSearch(nums, target):\n",
    "    left = 0\n",
    "    right = len(nums)-1\n",
    "    while left <= right:\n",
    "        mid = (left+right)//2\n",
    "        potentialMatch = nums[mid]\n",
    "        if target == potentialMatch:\n",
    "            return f\"Found your match at index {mid}\"\n",
    "        elif target < potentialMatch:\n",
    "            right = mid - 1\n",
    "        elif target > potentialMatch:\n",
    "            left = mid + 1\n",
    "    return f\"your target is not in here!\"\n",
    "binSearch(nums10, 200)\n",
    "\n"
   ]
  },
  {
   "cell_type": "markdown",
   "metadata": {},
   "source": [
    "# Exercises"
   ]
  },
  {
   "cell_type": "markdown",
   "metadata": {},
   "source": [
    "### Exercise #1 <br>\n",
    "<p>Reverse the list below in-place using an in-place algorithm.<br>For extra credit: Reverse the strings at the same time.</p>"
   ]
  },
  {
   "cell_type": "code",
   "execution_count": 5,
   "metadata": {},
   "outputs": [
    {
     "name": "stdout",
     "output_type": "stream",
     "text": [
      "Using reverse()  ['.', 'sentence', 'a', 'is', 'this']\n"
     ]
    }
   ],
   "source": [
    "words = ['this' , 'is', 'a', 'sentence', '.']\n",
    "\n",
    "words.reverse()\n",
    "\n",
    "print(\"Using reverse() \", words)"
   ]
  },
  {
   "cell_type": "markdown",
   "metadata": {},
   "source": [
    "### Exercise #2 <br>\n",
    "<p>Create a function that counts how many distinct words are in the string below, then outputs a dictionary with the words as the key and the value as the amount of times that word appears in the string.<br>Should output:<br>{'a': 5,<br>\n",
    " 'abstract': 1,<br>\n",
    " 'an': 3,<br>\n",
    " 'array': 2, ... etc...</p>"
   ]
  },
  {
   "cell_type": "code",
   "execution_count": 30,
   "metadata": {},
   "outputs": [
    {
     "name": "stdout",
     "output_type": "stream",
     "text": [
      "{'in': 1, 'computing': 1, 'a': 5, 'hash': 4, 'table': 2, 'map': 2, 'is': 1, 'data': 2, 'structure': 2, 'which': 2, 'implements': 1, 'an': 3, 'associative': 1, 'array': 2, 'abstract': 1, 'type': 1, 'that': 1, 'can': 2, 'keys': 1, 'to': 2, 'values': 1, 'uses': 1, 'function': 1, 'compute': 1, 'index': 1, 'into': 1, 'of': 1, 'buckets': 1, 'or': 1, 'slots': 1, 'from': 1, 'the': 1, 'desired': 1, 'value': 1, 'be': 1, 'found': 1}\n"
     ]
    }
   ],
   "source": [
    "a_text = 'In computing, a hash table hash map is a data structure which implements an associative array abstract data type, a structure that can map keys to values. A hash table uses a hash function to compute an index into an array of buckets or slots from which the desired value can be found'\n",
    "\n",
    "def distinct_words():\n",
    "    mytable = str.maketrans(\"\", \"\", \",.\")\n",
    "    cleaned_list = a_text.translate(mytable).lower().split()\n",
    "    #print(cleaned_list)\n",
    "    \n",
    "    res_dict = {}\n",
    "    for i in range(0, len(cleaned_list)):\n",
    "        if cleaned_list[i] in res_dict.keys():\n",
    "            res_dict[cleaned_list[i]] = res_dict[cleaned_list[i]] + 1\n",
    "            #print(\"Inside If Statement \", res_dict)\n",
    "        else:\n",
    "            # else only gets hit if it is the first time the key ever appears in the dictionary\n",
    "            res_dict[cleaned_list[i]] = 1\n",
    "            #print(\"Inside Else Statement \", res_dict)\n",
    "    print(res_dict)\n",
    "    \n",
    "    \n",
    "    \n",
    "\n",
    "distinct_words()\n",
    "\n",
    "\n",
    "\n",
    "\n",
    "\n"
   ]
  },
  {
   "cell_type": "markdown",
   "metadata": {},
   "source": [
    "## Exercise #3\n",
    "\n",
    "Write a program to implement a Linear Search Algorithm. Also in a comment, write the Time Complexity of the following algorithm.\n",
    "\n",
    "#### Hint: Linear Searching will require searching a list for a given number. "
   ]
  },
  {
   "cell_type": "code",
   "execution_count": 40,
   "metadata": {},
   "outputs": [
    {
     "data": {
      "text/plain": [
       "5"
      ]
     },
     "execution_count": 40,
     "metadata": {},
     "output_type": "execute_result"
    }
   ],
   "source": [
    "arr = [22, 44, 66, 77, 88, 99]\n",
    "x = 99;\n",
    "\n",
    "def search(arr, x):\n",
    " \n",
    "    for i in range(len(arr)):\n",
    " \n",
    "        if arr[i] == x:\n",
    "            return i\n",
    " \n",
    "    return -1\n",
    "\n",
    "search(arr, x)\n",
    "\n",
    "\n",
    "#O(n)"
   ]
  },
  {
   "cell_type": "code",
   "execution_count": null,
   "metadata": {},
   "outputs": [],
   "source": []
  }
 ],
 "metadata": {
  "kernelspec": {
   "display_name": "Python 3 (ipykernel)",
   "language": "python",
   "name": "python3"
  },
  "language_info": {
   "codemirror_mode": {
    "name": "ipython",
    "version": 3
   },
   "file_extension": ".py",
   "mimetype": "text/x-python",
   "name": "python",
   "nbconvert_exporter": "python",
   "pygments_lexer": "ipython3",
   "version": "3.11.5"
  }
 },
 "nbformat": 4,
 "nbformat_minor": 2
}
